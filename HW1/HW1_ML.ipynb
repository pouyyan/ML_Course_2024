{
  "nbformat": 4,
  "nbformat_minor": 0,
  "metadata": {
    "colab": {
      "provenance": [],
      "toc_visible": true,
      "authorship_tag": "ABX9TyNX2tKpo3DnUwp3lVBIlwnE",
      "include_colab_link": true
    },
    "kernelspec": {
      "name": "python3",
      "display_name": "Python 3"
    },
    "language_info": {
      "name": "python"
    }
  },
  "cells": [
    {
      "cell_type": "markdown",
      "metadata": {
        "id": "view-in-github",
        "colab_type": "text"
      },
      "source": [
        "<a href=\"https://colab.research.google.com/github/pouyyan/ML_Course_2024/blob/main/HW1/HW1_ML.ipynb\" target=\"_parent\"><img src=\"https://colab.research.google.com/assets/colab-badge.svg\" alt=\"Open In Colab\"/></a>"
      ]
    },
    {
      "cell_type": "markdown",
      "source": [
        "# Question 6"
      ],
      "metadata": {
        "id": "ifqBtlROTC4y"
      }
    },
    {
      "cell_type": "code",
      "source": [
        "import numpy as np\n",
        "import timeit\n",
        "def operation1(m, n, A, k):\n",
        "    p_1 = np.zeros(m)\n",
        "    for i in range(n):\n",
        "        p_1 += A[:, i] * k[i]\n",
        "    return p_1\n",
        "def operation2(A,k):\n",
        "  p_2 = np.matmul(A,k)\n",
        "  #p_2 = A@k\n",
        "  return p_2\n",
        "m,n = 20, 10\n",
        "A = np.random.rand(m,n)\n",
        "k = np.random.rand(n)\n",
        "result1 = operation1(m, n, A, k)\n",
        "print(\"Result1:\", result1)\n",
        "result2 = operation2(A, k)\n",
        "print(\"Result2:\", result2)\n",
        "compare = np.allclose(result1,result2)\n",
        "# Time operation1\n",
        "time1 = timeit.timeit(lambda: operation1(m, n, A, k), number=10)\n",
        "# Time operation2\n",
        "time2 = timeit.timeit(lambda: operation2(A, k), number=10)\n",
        "print(f\"Execution time for operation1: {time1:.6f} seconds\")\n",
        "print(f\"Execution time for operation2: {time2:.6f} seconds\")\n",
        "print('Are the results identical? ',compare)"
      ],
      "metadata": {
        "colab": {
          "base_uri": "https://localhost:8080/"
        },
        "id": "C6keBcMIiri0",
        "outputId": "438461bb-54e7-4ad7-adbc-b7126080e3b8"
      },
      "execution_count": null,
      "outputs": [
        {
          "output_type": "stream",
          "name": "stdout",
          "text": [
            "Result1: [2.58998351 2.31699747 3.42452658 2.23451374 2.44280889 2.85213946\n",
            " 2.31532298 3.77134326 2.56279533 2.22130763 2.99949743 3.21036688\n",
            " 1.64153526 2.07533525 2.95535827 2.33971217 2.88579303 3.13507516\n",
            " 3.74290765 2.67472741]\n",
            "Result2: [2.58998351 2.31699747 3.42452658 2.23451374 2.44280889 2.85213946\n",
            " 2.31532298 3.77134326 2.56279533 2.22130763 2.99949743 3.21036688\n",
            " 1.64153526 2.07533525 2.95535827 2.33971217 2.88579303 3.13507516\n",
            " 3.74290765 2.67472741]\n",
            "Execution time for operation1: 0.000446 seconds\n",
            "Execution time for operation2: 0.000046 seconds\n",
            "Are the results identical?  True\n"
          ]
        }
      ]
    },
    {
      "cell_type": "markdown",
      "source": [
        "# Question 5"
      ],
      "metadata": {
        "id": "upiTyVakb0A_"
      }
    },
    {
      "cell_type": "code",
      "source": [
        "import numpy as np\n",
        "n = 5\n",
        "A = np.random.rand(n, n)\n",
        "A = np.triu(A)\n",
        "determinant = np.linalg.det(A)\n",
        "print('Triangular matrix: ',A)\n",
        "if determinant != 0:\n",
        "    print(\"Matrix is nonsingular.\")\n",
        "else:\n",
        "    print(\"Matrix is singular.\")"
      ],
      "metadata": {
        "colab": {
          "base_uri": "https://localhost:8080/"
        },
        "id": "-OTmmxBsb3So",
        "outputId": "83e18fc4-8214-4178-8f3c-cf7e84bdec77"
      },
      "execution_count": 77,
      "outputs": [
        {
          "output_type": "stream",
          "name": "stdout",
          "text": [
            "Triangular matrix:  [[0.50938871 0.00811376 0.99179899 0.0124497  0.81030299]\n",
            " [0.         0.45436771 0.36206902 0.99728733 0.87643057]\n",
            " [0.         0.         0.37228715 0.30366078 0.85264981]\n",
            " [0.         0.         0.         0.73511604 0.4011853 ]\n",
            " [0.         0.         0.         0.         0.15711576]]\n",
            "Matrix is nonsingular.\n"
          ]
        }
      ]
    }
  ]
}