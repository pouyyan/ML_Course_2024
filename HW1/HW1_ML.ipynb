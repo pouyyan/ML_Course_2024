{
  "nbformat": 4,
  "nbformat_minor": 0,
  "metadata": {
    "colab": {
      "provenance": [],
      "toc_visible": true,
      "authorship_tag": "ABX9TyNX2tKpo3DnUwp3lVBIlwnE",
      "include_colab_link": true
    },
    "kernelspec": {
      "name": "python3",
      "display_name": "Python 3"
    },
    "language_info": {
      "name": "python"
    }
  },
  "cells": [
    {
      "cell_type": "markdown",
      "metadata": {
        "id": "view-in-github",
        "colab_type": "text"
      },
      "source": [
        "<a href=\"https://colab.research.google.com/github/pouyyan/ML_Course_2024/blob/main/HW1/HW1_ML.ipynb\" target=\"_parent\"><img src=\"https://colab.research.google.com/assets/colab-badge.svg\" alt=\"Open In Colab\"/></a>"
      ]
    },
    {
      "cell_type": "markdown",
      "source": [
        "# Question 6"
      ],
      "metadata": {
        "id": "ifqBtlROTC4y"
      }
    },
    {
      "cell_type": "code",
      "source": [
        "import numpy as np\n",
        "import timeit\n",
        "def operation1(m, n, A, k):\n",
        "    p_1 = np.zeros(m)\n",
        "    for i in range(n):\n",
        "        p_1 += A[:, i] * k[i]\n",
        "    return p_1\n",
        "def operation2(A,k):\n",
        "  p_2 = np.matmul(A,k)\n",
        "  #p_2 = A@k\n",
        "  return p_2\n",
        "m,n = 20, 10\n",
        "A = np.random.rand(m,n)\n",
        "k = np.random.rand(n)\n",
        "result1 = operation1(m, n, A, k)\n",
        "print(\"Result1:\", result1)\n",
        "result2 = operation2(A, k)\n",
        "print(\"Result2:\", result2)\n",
        "compare = np.allclose(result1,result2)\n",
        "# Time operation1\n",
        "time1 = timeit.timeit(lambda: operation1(m, n, A, k), number=10)\n",
        "# Time operation2\n",
        "time2 = timeit.timeit(lambda: operation2(A, k), number=10)\n",
        "print(f\"Execution time for operation1: {time1:.6f} seconds\")\n",
        "print(f\"Execution time for operation2: {time2:.6f} seconds\")\n",
        "print('Are the results identical? ',compare)"
      ],
      "metadata": {
        "id": "C6keBcMIiri0"
      },
      "execution_count": null,
      "outputs": []
    },
    {
      "cell_type": "markdown",
      "source": [
        "# Question 5"
      ],
      "metadata": {
        "id": "upiTyVakb0A_"
      }
    },
    {
      "cell_type": "code",
      "source": [
        "import numpy as np\n",
        "n = 5\n",
        "A = np.random.rand(n, n)\n",
        "A = np.triu(A)\n",
        "determinant = np.linalg.det(A)\n",
        "print('Triangular matrix: ',A)\n",
        "if determinant != 0:\n",
        "    print(\"Matrix is nonsingular.\")\n",
        "else:\n",
        "    print(\"Matrix is singular.\")"
      ],
      "metadata": {
        "id": "-OTmmxBsb3So"
      },
      "execution_count": null,
      "outputs": []
    }
  ]
}